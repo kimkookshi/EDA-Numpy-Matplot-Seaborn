{
 "cells": [
  {
   "cell_type": "code",
   "execution_count": 2,
   "id": "7d3a677e-1e63-40c1-aba5-15bb881d051b",
   "metadata": {},
   "outputs": [
    {
     "data": {
      "text/plain": [
       "array([[1],\n",
       "       [2],\n",
       "       [3]])"
      ]
     },
     "execution_count": 2,
     "metadata": {},
     "output_type": "execute_result"
    }
   ],
   "source": [
    "import numpy as np\n",
    "data=np.array([[1],[2],[3]])\n",
    "data"
   ]
  },
  {
   "cell_type": "code",
   "execution_count": 7,
   "id": "772555c7-07a9-4112-bac2-a532bcbaf451",
   "metadata": {},
   "outputs": [],
   "source": [
    "a=np.squeeze(data)  #reduce 1 dimention (it is the opposite of expand_dims)"
   ]
  },
  {
   "cell_type": "code",
   "execution_count": 10,
   "id": "03c3a3d0-49ff-4fdf-836c-3373df872e1d",
   "metadata": {},
   "outputs": [
    {
     "ename": "AttributeError",
     "evalue": "'function' object has no attribute 'ndim'",
     "output_type": "error",
     "traceback": [
      "\u001b[0;31m---------------------------------------------------------------------------\u001b[0m",
      "\u001b[0;31mAttributeError\u001b[0m                            Traceback (most recent call last)",
      "Cell \u001b[0;32mIn[10], line 1\u001b[0m\n\u001b[0;32m----> 1\u001b[0m \u001b[43ma\u001b[49m\u001b[38;5;241;43m.\u001b[39;49m\u001b[43mndim\u001b[49m\n",
      "\u001b[0;31mAttributeError\u001b[0m: 'function' object has no attribute 'ndim'"
     ]
    }
   ],
   "source": [
    "a.ndim"
   ]
  },
  {
   "cell_type": "code",
   "execution_count": 19,
   "id": "9a37c9bd-192d-4660-a054-ab225b59c038",
   "metadata": {},
   "outputs": [
    {
     "data": {
      "text/plain": [
       "array([[1],\n",
       "       [2],\n",
       "       [3]])"
      ]
     },
     "execution_count": 19,
     "metadata": {},
     "output_type": "execute_result"
    }
   ],
   "source": [
    "#repeat  # repeats the data but it flatttens (that is it repeat numbers by reducing it to 1d)\n",
    "data"
   ]
  },
  {
   "cell_type": "code",
   "execution_count": 20,
   "id": "311c540f-2601-4987-8d0e-6d414ed229e6",
   "metadata": {},
   "outputs": [
    {
     "data": {
      "text/plain": [
       "array([1, 1, 1, 1, 2, 2, 2, 2, 3, 3, 3, 3])"
      ]
     },
     "execution_count": 20,
     "metadata": {},
     "output_type": "execute_result"
    }
   ],
   "source": [
    "np.repeat(data,4)"
   ]
  },
  {
   "cell_type": "code",
   "execution_count": 21,
   "id": "fcd9e265-d431-46c5-b5fb-e181deb050e4",
   "metadata": {},
   "outputs": [
    {
     "data": {
      "text/plain": [
       "array([[1, 2],\n",
       "       [3, 4]])"
      ]
     },
     "execution_count": 21,
     "metadata": {},
     "output_type": "execute_result"
    }
   ],
   "source": [
    "a=np.array([[1,2],[3,4]])\n",
    "a"
   ]
  },
  {
   "cell_type": "code",
   "execution_count": 22,
   "id": "b17ba9db-28e7-48c4-b291-a3a1325facee",
   "metadata": {},
   "outputs": [
    {
     "data": {
      "text/plain": [
       "array([1, 1, 2, 2, 3, 3, 4, 4])"
      ]
     },
     "execution_count": 22,
     "metadata": {},
     "output_type": "execute_result"
    }
   ],
   "source": [
    "np.repeat(a,2)"
   ]
  },
  {
   "cell_type": "code",
   "execution_count": 24,
   "id": "e828bb16-12ae-4b2d-ac47-0dfd30303660",
   "metadata": {},
   "outputs": [
    {
     "data": {
      "text/plain": [
       "array([[1, 1, 2, 2],\n",
       "       [3, 3, 4, 4]])"
      ]
     },
     "execution_count": 24,
     "metadata": {},
     "output_type": "execute_result"
    }
   ],
   "source": [
    "np.repeat(a,2,axis=1) #axis=1 means column wise"
   ]
  },
  {
   "cell_type": "code",
   "execution_count": 2,
   "id": "06abe69f-c8ed-457a-a4b6-3093958af99c",
   "metadata": {},
   "outputs": [
    {
     "data": {
      "text/plain": [
       "array([[1],\n",
       "       [2],\n",
       "       [3]])"
      ]
     },
     "execution_count": 2,
     "metadata": {},
     "output_type": "execute_result"
    }
   ],
   "source": [
    "import numpy as np\n",
    "data=np.array([[1],[2],[3]])\n",
    "data"
   ]
  },
  {
   "cell_type": "code",
   "execution_count": 3,
   "id": "ad2303a2-216d-43e9-bc06-b27461845429",
   "metadata": {},
   "outputs": [
    {
     "data": {
      "text/plain": [
       "array([[2],\n",
       "       [3],\n",
       "       [1]])"
      ]
     },
     "execution_count": 3,
     "metadata": {},
     "output_type": "execute_result"
    }
   ],
   "source": [
    "np.roll(data,2)"
   ]
  },
  {
   "cell_type": "code",
   "execution_count": 6,
   "id": "37e5e046-5e84-462e-9959-8cdcc6343285",
   "metadata": {},
   "outputs": [
    {
     "data": {
      "text/plain": [
       "array([[1, 0, 0, 0],\n",
       "       [0, 2, 0, 0],\n",
       "       [0, 0, 3, 0],\n",
       "       [0, 0, 0, 4]])"
      ]
     },
     "execution_count": 6,
     "metadata": {},
     "output_type": "execute_result"
    }
   ],
   "source": [
    "np.diag(np.array([1,2,3,4]))  #element become diagonal"
   ]
  },
  {
   "cell_type": "code",
   "execution_count": 8,
   "id": "db75e7f8-05aa-424e-8f77-ca0472c7a0e7",
   "metadata": {},
   "outputs": [
    {
     "data": {
      "text/plain": [
       "array([[3],\n",
       "       [1],\n",
       "       [2]])"
      ]
     },
     "execution_count": 8,
     "metadata": {},
     "output_type": "execute_result"
    }
   ],
   "source": [
    "np.roll(data,1,axis=0)"
   ]
  },
  {
   "cell_type": "code",
   "execution_count": 10,
   "id": "6d3cccd6-a2ef-4027-989b-eff61e7c3128",
   "metadata": {},
   "outputs": [
    {
     "data": {
      "text/plain": [
       "array([[1],\n",
       "       [2],\n",
       "       [3]])"
      ]
     },
     "execution_count": 10,
     "metadata": {},
     "output_type": "execute_result"
    }
   ],
   "source": [
    "np.roll(data,1,axis=1)  #roll the coloumn"
   ]
  },
  {
   "cell_type": "code",
   "execution_count": 11,
   "id": "0f130b45-9e96-41a9-9c82-d2b454287842",
   "metadata": {},
   "outputs": [],
   "source": [
    "#binary operation on array"
   ]
  },
  {
   "cell_type": "code",
   "execution_count": 12,
   "id": "4ff03da5-2837-4d00-88ec-5ea81ef77e2c",
   "metadata": {},
   "outputs": [],
   "source": [
    "arr1=np.random.randint(1,10,(3,4))\n",
    "arr2=np.random.randint(1,10,(3,4))"
   ]
  },
  {
   "cell_type": "code",
   "execution_count": 13,
   "id": "a699c0d6-aed9-4226-8291-79265386df81",
   "metadata": {},
   "outputs": [
    {
     "data": {
      "text/plain": [
       "array([[6, 6, 4, 6],\n",
       "       [1, 8, 4, 8],\n",
       "       [4, 6, 1, 4]])"
      ]
     },
     "execution_count": 13,
     "metadata": {},
     "output_type": "execute_result"
    }
   ],
   "source": [
    "arr1"
   ]
  },
  {
   "cell_type": "code",
   "execution_count": 14,
   "id": "ab38cffc-1913-4a7a-901f-0f5e055d20fa",
   "metadata": {},
   "outputs": [
    {
     "data": {
      "text/plain": [
       "array([[3, 8, 2, 5],\n",
       "       [3, 3, 5, 6],\n",
       "       [3, 8, 6, 6]])"
      ]
     },
     "execution_count": 14,
     "metadata": {},
     "output_type": "execute_result"
    }
   ],
   "source": [
    "arr2"
   ]
  },
  {
   "cell_type": "code",
   "execution_count": 15,
   "id": "361fb3aa-2636-42a0-9eee-ad271216b66d",
   "metadata": {},
   "outputs": [
    {
     "data": {
      "text/plain": [
       "array([[ 9, 14,  6, 11],\n",
       "       [ 4, 11,  9, 14],\n",
       "       [ 7, 14,  7, 10]])"
      ]
     },
     "execution_count": 15,
     "metadata": {},
     "output_type": "execute_result"
    }
   ],
   "source": [
    "arr1+arr2"
   ]
  },
  {
   "cell_type": "code",
   "execution_count": 16,
   "id": "f0eb7c7f-c543-4e57-9c2d-e59641cf8dbf",
   "metadata": {},
   "outputs": [
    {
     "data": {
      "text/plain": [
       "array([[18, 48,  8, 30],\n",
       "       [ 3, 24, 20, 48],\n",
       "       [12, 48,  6, 24]])"
      ]
     },
     "execution_count": 16,
     "metadata": {},
     "output_type": "execute_result"
    }
   ],
   "source": [
    "arr1*arr2"
   ]
  },
  {
   "cell_type": "code",
   "execution_count": 17,
   "id": "c43ccbdb-62f1-47c3-bcc3-76bb925bfead",
   "metadata": {},
   "outputs": [
    {
     "data": {
      "text/plain": [
       "array([[2.        , 0.75      , 2.        , 1.2       ],\n",
       "       [0.33333333, 2.66666667, 0.8       , 1.33333333],\n",
       "       [1.33333333, 0.75      , 0.16666667, 0.66666667]])"
      ]
     },
     "execution_count": 17,
     "metadata": {},
     "output_type": "execute_result"
    }
   ],
   "source": [
    "arr1/arr2"
   ]
  },
  {
   "cell_type": "code",
   "execution_count": 18,
   "id": "2f8617c6-4d47-4105-8345-d918c9e19432",
   "metadata": {},
   "outputs": [
    {
     "data": {
      "text/plain": [
       "array([[ 3, -2,  2,  1],\n",
       "       [-2,  5, -1,  2],\n",
       "       [ 1, -2, -5, -2]])"
      ]
     },
     "execution_count": 18,
     "metadata": {},
     "output_type": "execute_result"
    }
   ],
   "source": [
    "arr1-arr2"
   ]
  },
  {
   "cell_type": "code",
   "execution_count": 19,
   "id": "46e24696-436c-439c-a317-6ca4560d0010",
   "metadata": {},
   "outputs": [
    {
     "data": {
      "text/plain": [
       "array([[    216, 1679616,      16,    7776],\n",
       "       [      1,     512,    1024,  262144],\n",
       "       [     64, 1679616,       1,    4096]])"
      ]
     },
     "execution_count": 19,
     "metadata": {},
     "output_type": "execute_result"
    }
   ],
   "source": [
    "arr1**arr2"
   ]
  },
  {
   "cell_type": "code",
   "execution_count": 20,
   "id": "4001ab68-3249-486c-9b55-74bf1712fecb",
   "metadata": {},
   "outputs": [
    {
     "data": {
      "text/plain": [
       "array([[ True, False,  True,  True],\n",
       "       [False,  True, False,  True],\n",
       "       [ True, False, False, False]])"
      ]
     },
     "execution_count": 20,
     "metadata": {},
     "output_type": "execute_result"
    }
   ],
   "source": [
    "arr1>arr2"
   ]
  },
  {
   "cell_type": "code",
   "execution_count": 21,
   "id": "f09508ff-d5ff-4ecd-8939-9ed7184e1e65",
   "metadata": {},
   "outputs": [
    {
     "data": {
      "text/plain": [
       "array([[-6, -6, -4, -6],\n",
       "       [-1, -8, -4, -8],\n",
       "       [-4, -6, -1, -4]])"
      ]
     },
     "execution_count": 21,
     "metadata": {},
     "output_type": "execute_result"
    }
   ],
   "source": [
    "-arr1"
   ]
  },
  {
   "cell_type": "code",
   "execution_count": 3,
   "id": "179b07d3-17fe-4082-8baa-b0937451c6fa",
   "metadata": {},
   "outputs": [
    {
     "data": {
      "text/plain": [
       "array(['pw', 'skills'], dtype='<U6')"
      ]
     },
     "execution_count": 3,
     "metadata": {},
     "output_type": "execute_result"
    }
   ],
   "source": [
    "#numpy string concepts\n",
    "import numpy as np\n",
    "arr=np.array([\"pw\",\"skills\"])\n",
    "arr"
   ]
  },
  {
   "cell_type": "code",
   "execution_count": 4,
   "id": "a7f2ad10-c039-456c-93fe-65677ad72d17",
   "metadata": {},
   "outputs": [
    {
     "data": {
      "text/plain": [
       "array(['PW', 'SKILLS'], dtype='<U6')"
      ]
     },
     "execution_count": 4,
     "metadata": {},
     "output_type": "execute_result"
    }
   ],
   "source": [
    "np.char.upper(arr)"
   ]
  },
  {
   "cell_type": "code",
   "execution_count": 6,
   "id": "41dd2aa7-7558-4e7a-9899-cfb34f14b019",
   "metadata": {},
   "outputs": [
    {
     "data": {
      "text/plain": [
       "array(['AJAY'], dtype='<U4')"
      ]
     },
     "execution_count": 6,
     "metadata": {},
     "output_type": "execute_result"
    }
   ],
   "source": [
    "np.char.upper(np.array([\"ajay\"]))"
   ]
  },
  {
   "cell_type": "code",
   "execution_count": 7,
   "id": "62e148fb-ca3e-4c21-9de9-8c10ec7b3dfc",
   "metadata": {},
   "outputs": [
    {
     "data": {
      "text/plain": [
       "array(['Pw', 'Skills'], dtype='<U6')"
      ]
     },
     "execution_count": 7,
     "metadata": {},
     "output_type": "execute_result"
    }
   ],
   "source": [
    "np.char.capitalize(arr)"
   ]
  },
  {
   "cell_type": "code",
   "execution_count": 5,
   "id": "d82f734a-00e4-4383-bfad-d2adcc67ea25",
   "metadata": {},
   "outputs": [
    {
     "data": {
      "text/plain": [
       "array(['pw', 'skills'], dtype='<U6')"
      ]
     },
     "execution_count": 5,
     "metadata": {},
     "output_type": "execute_result"
    }
   ],
   "source": [
    "import numpy as np\n",
    "arr=np.array([\"pw\",\"skills\"])\n",
    "\n",
    "np.char.title(arr)\n",
    "arr"
   ]
  },
  {
   "cell_type": "code",
   "execution_count": 6,
   "id": "cd3d1a81-02d4-4a4c-ae2c-24c99363339d",
   "metadata": {},
   "outputs": [
    {
     "data": {
      "text/plain": [
       "array([[1],\n",
       "       [2],\n",
       "       [3]])"
      ]
     },
     "execution_count": 6,
     "metadata": {},
     "output_type": "execute_result"
    }
   ],
   "source": [
    "data=np.array([[1],[2],[3]])\n",
    "data"
   ]
  },
  {
   "cell_type": "code",
   "execution_count": 14,
   "id": "166f472c-82eb-470c-a83a-5fd9dc240464",
   "metadata": {},
   "outputs": [],
   "source": [
    "#mathematical functions used in numpy "
   ]
  },
  {
   "cell_type": "code",
   "execution_count": 15,
   "id": "ceef7aae-8415-4d89-92b2-59d15a788a05",
   "metadata": {},
   "outputs": [
    {
     "data": {
      "text/plain": [
       "array([[0.84147098],\n",
       "       [0.90929743],\n",
       "       [0.14112001]])"
      ]
     },
     "execution_count": 15,
     "metadata": {},
     "output_type": "execute_result"
    }
   ],
   "source": [
    "np.sin(data)"
   ]
  },
  {
   "cell_type": "code",
   "execution_count": 16,
   "id": "ca5a7b61-ca52-483f-a17b-4bfc7b7daf20",
   "metadata": {},
   "outputs": [
    {
     "data": {
      "text/plain": [
       "array([[ 0.54030231],\n",
       "       [-0.41614684],\n",
       "       [-0.9899925 ]])"
      ]
     },
     "execution_count": 16,
     "metadata": {},
     "output_type": "execute_result"
    }
   ],
   "source": [
    "np.cos(data)"
   ]
  },
  {
   "cell_type": "code",
   "execution_count": 17,
   "id": "78226fe8-ac87-4894-aae7-b56a812a78f5",
   "metadata": {},
   "outputs": [
    {
     "data": {
      "text/plain": [
       "array([[ 1.55740772],\n",
       "       [-2.18503986],\n",
       "       [-0.14254654]])"
      ]
     },
     "execution_count": 17,
     "metadata": {},
     "output_type": "execute_result"
    }
   ],
   "source": [
    "np.tan(data)"
   ]
  },
  {
   "cell_type": "code",
   "execution_count": 18,
   "id": "8bd444c0-c162-4249-b7c9-bb709d74230d",
   "metadata": {},
   "outputs": [
    {
     "data": {
      "text/plain": [
       "array([[0.        ],\n",
       "       [0.30103   ],\n",
       "       [0.47712125]])"
      ]
     },
     "execution_count": 18,
     "metadata": {},
     "output_type": "execute_result"
    }
   ],
   "source": [
    "np.log10(data)"
   ]
  },
  {
   "cell_type": "code",
   "execution_count": 19,
   "id": "fffe553d-f92f-4dc0-a338-b733af604aa7",
   "metadata": {},
   "outputs": [
    {
     "data": {
      "text/plain": [
       "array([[ 2.71828183],\n",
       "       [ 7.3890561 ],\n",
       "       [20.08553692]])"
      ]
     },
     "execution_count": 19,
     "metadata": {},
     "output_type": "execute_result"
    }
   ],
   "source": [
    "np.exp(data)"
   ]
  },
  {
   "cell_type": "code",
   "execution_count": 20,
   "id": "073a03d6-3afc-48db-a11a-11fd802edecd",
   "metadata": {},
   "outputs": [
    {
     "data": {
      "text/plain": [
       "array([[ 1],\n",
       "       [ 8],\n",
       "       [27]])"
      ]
     },
     "execution_count": 20,
     "metadata": {},
     "output_type": "execute_result"
    }
   ],
   "source": [
    "np.power(data,3)"
   ]
  },
  {
   "cell_type": "code",
   "execution_count": 21,
   "id": "f2cf1d19-108f-4d47-b051-4eccc3959427",
   "metadata": {},
   "outputs": [
    {
     "data": {
      "text/plain": [
       "0.816496580927726"
      ]
     },
     "execution_count": 21,
     "metadata": {},
     "output_type": "execute_result"
    }
   ],
   "source": [
    "np.std(data)"
   ]
  },
  {
   "cell_type": "code",
   "execution_count": 22,
   "id": "8a5bafa6-2743-4671-9301-c03a7010aeb9",
   "metadata": {},
   "outputs": [
    {
     "data": {
      "text/plain": [
       "2.0"
      ]
     },
     "execution_count": 22,
     "metadata": {},
     "output_type": "execute_result"
    }
   ],
   "source": [
    "np.mean(data)"
   ]
  },
  {
   "cell_type": "code",
   "execution_count": 23,
   "id": "d17b77f7-4dc5-4257-b460-05e3ba68139f",
   "metadata": {},
   "outputs": [
    {
     "data": {
      "text/plain": [
       "0.6666666666666666"
      ]
     },
     "execution_count": 23,
     "metadata": {},
     "output_type": "execute_result"
    }
   ],
   "source": [
    "np.var(data)"
   ]
  },
  {
   "cell_type": "code",
   "execution_count": 24,
   "id": "02b06dc2-2a73-4951-814d-159ddfb63940",
   "metadata": {},
   "outputs": [
    {
     "data": {
      "text/plain": [
       "array([[ 2,  1, -2, -4],\n",
       "       [ 3, -1,  0,  1],\n",
       "       [-6,  1,  1, -3]])"
      ]
     },
     "execution_count": 24,
     "metadata": {},
     "output_type": "execute_result"
    }
   ],
   "source": [
    "arr1=np.random.randint(1,10,(3,4))\n",
    "arr2=np.random.randint(1,10,(3,4))\n",
    "\n",
    "np.subtract(arr1,arr2)"
   ]
  },
  {
   "cell_type": "code",
   "execution_count": 25,
   "id": "7b7fb915-ba2d-496f-8edf-d07fd5a8940d",
   "metadata": {},
   "outputs": [
    {
     "data": {
      "text/plain": [
       "array([[63, 12, 63,  5],\n",
       "       [54, 42,  4,  2],\n",
       "       [ 7,  6, 72, 10]])"
      ]
     },
     "execution_count": 25,
     "metadata": {},
     "output_type": "execute_result"
    }
   ],
   "source": [
    "np.multiply(arr1,arr2)"
   ]
  },
  {
   "cell_type": "code",
   "execution_count": 26,
   "id": "512e31df-9024-494e-bf40-869197d57ca1",
   "metadata": {},
   "outputs": [
    {
     "data": {
      "text/plain": [
       "array([[ 4782969,       64, 40353607,        1],\n",
       "       [  531441,   279936,        4,        2],\n",
       "       [       1,        9, 43046721,       32]])"
      ]
     },
     "execution_count": 26,
     "metadata": {},
     "output_type": "execute_result"
    }
   ],
   "source": [
    "np.power(arr1,arr2)"
   ]
  },
  {
   "cell_type": "code",
   "execution_count": 27,
   "id": "5d54f5fa-4922-4a50-8064-468bb19895b6",
   "metadata": {},
   "outputs": [
    {
     "data": {
      "text/plain": [
       "array([[3.        , 2.        , 2.64575131, 1.        ],\n",
       "       [3.        , 2.44948974, 1.41421356, 1.41421356],\n",
       "       [1.        , 1.73205081, 3.        , 1.41421356]])"
      ]
     },
     "execution_count": 27,
     "metadata": {},
     "output_type": "execute_result"
    }
   ],
   "source": [
    "np.sqrt(arr1)"
   ]
  },
  {
   "cell_type": "code",
   "execution_count": 28,
   "id": "2a7ed35a-b1ce-4682-989b-ab9305681d6e",
   "metadata": {},
   "outputs": [
    {
     "data": {
      "text/plain": [
       "array([5, 6, 1, 2])"
      ]
     },
     "execution_count": 28,
     "metadata": {},
     "output_type": "execute_result"
    }
   ],
   "source": [
    "#sort and search \n",
    "arr=np.array([5,6,1,2])\n",
    "arr"
   ]
  },
  {
   "cell_type": "code",
   "execution_count": 29,
   "id": "15766e30-18d2-479f-bb70-7cd68e8d3b42",
   "metadata": {},
   "outputs": [
    {
     "data": {
      "text/plain": [
       "array([1, 2, 5, 6])"
      ]
     },
     "execution_count": 29,
     "metadata": {},
     "output_type": "execute_result"
    }
   ],
   "source": [
    "np.sort(arr)"
   ]
  },
  {
   "cell_type": "code",
   "execution_count": 32,
   "id": "75f47241-778b-44af-aa34-a4b1505de3a5",
   "metadata": {},
   "outputs": [
    {
     "data": {
      "text/plain": [
       "4"
      ]
     },
     "execution_count": 32,
     "metadata": {},
     "output_type": "execute_result"
    }
   ],
   "source": [
    "np.searchsorted(arr,3)  #ans is 4 that means we have to insert at 3rd index"
   ]
  },
  {
   "cell_type": "code",
   "execution_count": 34,
   "id": "498420fc-9528-44f7-9127-db1748b3614d",
   "metadata": {},
   "outputs": [
    {
     "data": {
      "text/plain": [
       "4"
      ]
     },
     "execution_count": 34,
     "metadata": {},
     "output_type": "execute_result"
    }
   ],
   "source": [
    "arr1=np.array([0,1,2,3,0,4]) #the numnebr of non zero is 4\n",
    "np.count_nonzero(arr1)"
   ]
  },
  {
   "cell_type": "code",
   "execution_count": 35,
   "id": "7ba9205b-a75a-4ca7-bf23-3921e836da19",
   "metadata": {},
   "outputs": [
    {
     "data": {
      "text/plain": [
       "array([False,  True,  True,  True, False,  True])"
      ]
     },
     "execution_count": 35,
     "metadata": {},
     "output_type": "execute_result"
    }
   ],
   "source": [
    "arr1>0"
   ]
  },
  {
   "cell_type": "code",
   "execution_count": 36,
   "id": "2447ba2c-fa2e-4e6a-9059-abe37921789a",
   "metadata": {},
   "outputs": [
    {
     "data": {
      "text/plain": [
       "(array([1, 2, 3, 5]),)"
      ]
     },
     "execution_count": 36,
     "metadata": {},
     "output_type": "execute_result"
    }
   ],
   "source": [
    "np.where(arr1 >0) #to know the index where it gives true or false value"
   ]
  },
  {
   "cell_type": "code",
   "execution_count": 37,
   "id": "b0232b0c-0b18-42e1-aa2a-25ca5ce0062f",
   "metadata": {},
   "outputs": [
    {
     "data": {
      "text/plain": [
       "array([1, 2, 3, 4])"
      ]
     },
     "execution_count": 37,
     "metadata": {},
     "output_type": "execute_result"
    }
   ],
   "source": [
    "np.extract(arr1 >0,arr1)"
   ]
  },
  {
   "cell_type": "code",
   "execution_count": 38,
   "id": "1421d768-7ca3-4c7b-a2b0-ae7337304c90",
   "metadata": {},
   "outputs": [
    {
     "data": {
      "text/plain": [
       "array([0, 1, 2, 3, 0, 4])"
      ]
     },
     "execution_count": 38,
     "metadata": {},
     "output_type": "execute_result"
    }
   ],
   "source": [
    "arr1"
   ]
  },
  {
   "cell_type": "code",
   "execution_count": 39,
   "id": "fcc94d3d-3009-4d78-b233-8ec951426af3",
   "metadata": {},
   "outputs": [
    {
     "data": {
      "text/plain": [
       "array([                 0,  72057594037927936, 144115188075855872,\n",
       "       216172782113783808,                  0, 288230376151711744])"
      ]
     },
     "execution_count": 39,
     "metadata": {},
     "output_type": "execute_result"
    }
   ],
   "source": [
    "arr1.byteswap() #to find how it stored in byte form"
   ]
  },
  {
   "cell_type": "code",
   "execution_count": 40,
   "id": "fcee190d-1b84-4d6e-bb35-48a973e8b93e",
   "metadata": {},
   "outputs": [],
   "source": [
    "#matrix >> 2d array\n"
   ]
  },
  {
   "cell_type": "code",
   "execution_count": 43,
   "id": "8bc52a68-4f74-460f-ab2d-0608238cf6f2",
   "metadata": {},
   "outputs": [],
   "source": [
    "import numpy.matlib as nm #matlib means matrix library"
   ]
  },
  {
   "cell_type": "code",
   "execution_count": 44,
   "id": "40d9263d-c43d-4e50-b1d8-8103821d0a55",
   "metadata": {},
   "outputs": [
    {
     "data": {
      "text/plain": [
       "matrix([[0., 0., 0., 0., 0.]])"
      ]
     },
     "execution_count": 44,
     "metadata": {},
     "output_type": "execute_result"
    }
   ],
   "source": [
    "nm.zeros(5)\n"
   ]
  },
  {
   "cell_type": "code",
   "execution_count": 45,
   "id": "1b94706e-e2bb-4f17-a487-a50b44ca5132",
   "metadata": {},
   "outputs": [
    {
     "data": {
      "text/plain": [
       "matrix([[1., 1., 1., 1.],\n",
       "        [1., 1., 1., 1.],\n",
       "        [1., 1., 1., 1.]])"
      ]
     },
     "execution_count": 45,
     "metadata": {},
     "output_type": "execute_result"
    }
   ],
   "source": [
    "nm.ones((3,4)) #2d "
   ]
  },
  {
   "cell_type": "code",
   "execution_count": 46,
   "id": "cd7c47fc-db00-4ec5-804c-ab6ad9b02f13",
   "metadata": {},
   "outputs": [],
   "source": [
    "#numpy linear alebra"
   ]
  },
  {
   "cell_type": "code",
   "execution_count": 47,
   "id": "836899f3-50ce-4fe9-97cf-bfb733db02cb",
   "metadata": {},
   "outputs": [],
   "source": [
    "arr1=np.random.randint(1,10,(3,4))\n",
    "arr2=np.random.randint(1,10,(3,4))\n"
   ]
  },
  {
   "cell_type": "code",
   "execution_count": 48,
   "id": "a6a32ae1-aa81-4cea-ae1a-944b40285487",
   "metadata": {},
   "outputs": [
    {
     "data": {
      "text/plain": [
       "array([[7, 8, 5, 9],\n",
       "       [7, 4, 6, 3],\n",
       "       [4, 5, 3, 6]])"
      ]
     },
     "execution_count": 48,
     "metadata": {},
     "output_type": "execute_result"
    }
   ],
   "source": [
    "arr1"
   ]
  },
  {
   "cell_type": "code",
   "execution_count": 49,
   "id": "dd922fbf-7465-4219-907e-75985a7e4753",
   "metadata": {},
   "outputs": [
    {
     "data": {
      "text/plain": [
       "array([[5, 5, 3, 9],\n",
       "       [4, 8, 8, 1],\n",
       "       [9, 5, 5, 7]])"
      ]
     },
     "execution_count": 49,
     "metadata": {},
     "output_type": "execute_result"
    }
   ],
   "source": [
    "arr2"
   ]
  },
  {
   "cell_type": "code",
   "execution_count": 50,
   "id": "811dec47-3e35-4630-8da4-9c9f44ed481e",
   "metadata": {},
   "outputs": [],
   "source": [
    "arr1=np.array([[2,3],[4,5]])\n",
    "arr2=np.array([[1,3],[4,5]])"
   ]
  },
  {
   "cell_type": "code",
   "execution_count": 51,
   "id": "ca7082bf-dc74-40b3-b7c0-dbee1bc57a31",
   "metadata": {},
   "outputs": [
    {
     "data": {
      "text/plain": [
       "array([[14, 21],\n",
       "       [24, 37]])"
      ]
     },
     "execution_count": 51,
     "metadata": {},
     "output_type": "execute_result"
    }
   ],
   "source": [
    "arr1 @ arr2"
   ]
  },
  {
   "cell_type": "code",
   "execution_count": 56,
   "id": "cc0e12fa-ad21-4ad3-84bd-5f1eefa793f9",
   "metadata": {},
   "outputs": [],
   "source": [
    "# 7X+5Y-3Z=16\n",
    "# 3X-5Y+2Z=-8\n",
    "# 5X+3Y-7Z=0 \n",
    "# a values consists of all LHS \n",
    "# b values consists of all RHS"
   ]
  },
  {
   "cell_type": "code",
   "execution_count": 52,
   "id": "a5ef0e56-448e-409a-aa39-151db2608664",
   "metadata": {},
   "outputs": [
    {
     "data": {
      "text/plain": [
       "array([[ 7, -5, -3],\n",
       "       [ 3, -5,  2],\n",
       "       [ 5,  3, -7]])"
      ]
     },
     "execution_count": 52,
     "metadata": {},
     "output_type": "execute_result"
    }
   ],
   "source": [
    "a=np.array([[7,-5,-3],[3,-5,2],[5,3,-7]])\n",
    "a"
   ]
  },
  {
   "cell_type": "code",
   "execution_count": 53,
   "id": "bca171c1-0142-477d-b48a-3812ce7cbfd7",
   "metadata": {},
   "outputs": [
    {
     "data": {
      "text/plain": [
       "array([16, -8,  0])"
      ]
     },
     "execution_count": 53,
     "metadata": {},
     "output_type": "execute_result"
    }
   ],
   "source": [
    "b=np.array([16,-8,0])\n",
    "b"
   ]
  },
  {
   "cell_type": "code",
   "execution_count": 57,
   "id": "0c5e4562-e8cf-49ca-a762-054ae5ba67d3",
   "metadata": {},
   "outputs": [
    {
     "data": {
      "text/plain": [
       "array([-15.11111111, -14.22222222, -16.88888889])"
      ]
     },
     "execution_count": 57,
     "metadata": {},
     "output_type": "execute_result"
    }
   ],
   "source": [
    "np.linalg.solve(a,b)   #solving the equations with linear algebra \"linalg\" is the function used"
   ]
  },
  {
   "cell_type": "code",
   "execution_count": 58,
   "id": "727e0874-3dcd-4114-8bbc-cfc14666d61b",
   "metadata": {},
   "outputs": [
    {
     "data": {
      "text/plain": [
       "-2.0"
      ]
     },
     "execution_count": 58,
     "metadata": {},
     "output_type": "execute_result"
    }
   ],
   "source": [
    "# to find  the determinant of a matrix\n",
    "np.linalg.det(arr1)"
   ]
  },
  {
   "cell_type": "code",
   "execution_count": 60,
   "id": "ed997ede-d7e1-4cf6-814d-8746a8cc2370",
   "metadata": {},
   "outputs": [
    {
     "data": {
      "text/plain": [
       "array([[-2.5,  1.5],\n",
       "       [ 2. , -1. ]])"
      ]
     },
     "execution_count": 60,
     "metadata": {},
     "output_type": "execute_result"
    }
   ],
   "source": [
    "# to find the inverse of a matrix\n",
    "np.linalg.inv(arr1)"
   ]
  },
  {
   "cell_type": "code",
   "execution_count": null,
   "id": "aa4964b7-fe13-4c95-92e2-5b048f8dd978",
   "metadata": {},
   "outputs": [],
   "source": [
    "############### NUMPY SERIS IS OVER  ;) ####################"
   ]
  }
 ],
 "metadata": {
  "kernelspec": {
   "display_name": "Python 3 (ipykernel)",
   "language": "python",
   "name": "python3"
  },
  "language_info": {
   "codemirror_mode": {
    "name": "ipython",
    "version": 3
   },
   "file_extension": ".py",
   "mimetype": "text/x-python",
   "name": "python",
   "nbconvert_exporter": "python",
   "pygments_lexer": "ipython3",
   "version": "3.10.8"
  }
 },
 "nbformat": 4,
 "nbformat_minor": 5
}
